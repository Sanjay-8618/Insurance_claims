{
 "cells": [
  {
   "cell_type": "code",
   "execution_count": 2,
   "id": "928658e3",
   "metadata": {},
   "outputs": [],
   "source": [
    "import pandas as pd\n",
    "import numpy as np\n",
    "from datetime import datetime\n",
    "import matplotlib.pyplot as plt\n",
    "import seaborn as sns\n",
    "from scipy.stats import ttest_ind"
   ]
  },
  {
   "cell_type": "markdown",
   "id": "644a7860",
   "metadata": {},
   "source": [
    "#### 1. Import claims_data.csv and cust_data.csv which is provided to you and combine the two datasets appropriately to create a 360-degree view of the data. Use the same for the subsequent questions.\n",
    " \n"
   ]
  },
  {
   "cell_type": "code",
   "execution_count": 3,
   "id": "e29c57ed",
   "metadata": {},
   "outputs": [],
   "source": [
    "claims = pd.read_csv(\"C:/analytix_labs project/Data/Case Study 3 - Insurance Claims Case Study\\claims.csv\")\n",
    "demo = pd.read_csv(\"C:/analytix_labs project/Data/Case Study 3 - Insurance Claims Case Study\\cust_demographics.csv\")"
   ]
  },
  {
   "cell_type": "code",
   "execution_count": 4,
   "id": "f0993fbf",
   "metadata": {},
   "outputs": [],
   "source": [
    "df = pd.merge(claims,demo,left_on='customer_id',right_on='CUST_ID',how = 'left')"
   ]
  },
  {
   "cell_type": "markdown",
   "id": "3a9ad332",
   "metadata": {},
   "source": [
    "#### 2. Perform a data audit for the datatypes and find out if there are any mismatch within the current datatypes of the columns and their  business significance."
   ]
  },
  {
   "cell_type": "code",
   "execution_count": 5,
   "id": "6aed25a0",
   "metadata": {},
   "outputs": [],
   "source": [
    "df['claim_date']=pd.to_datetime(df['claim_date'])\n",
    "df['DateOfBirth']=pd.to_datetime(df['DateOfBirth'])\n",
    "df['total_policy_claims'] = pd.to_numeric(df['total_policy_claims'])\n"
   ]
  },
  {
   "cell_type": "code",
   "execution_count": 12,
   "id": "dfdfd7ad",
   "metadata": {},
   "outputs": [],
   "source": [
    "df.drop(['claim_id','CUST_ID','Contact'],axis=1,inplace = True)"
   ]
  },
  {
   "cell_type": "code",
   "execution_count": null,
   "id": "453e816a",
   "metadata": {},
   "outputs": [],
   "source": []
  },
  {
   "cell_type": "code",
   "execution_count": null,
   "id": "8d780279",
   "metadata": {},
   "outputs": [],
   "source": []
  },
  {
   "cell_type": "markdown",
   "id": "cf61a4fa",
   "metadata": {},
   "source": [
    "#### 3. Convert the column claim_amount to numeric. Use the appropriate  modules/attributes to remove the $ sign."
   ]
  },
  {
   "cell_type": "code",
   "execution_count": 7,
   "id": "4478d941",
   "metadata": {},
   "outputs": [],
   "source": [
    "df['claim_amount'] = pd.to_numeric(df['claim_amount'].replace(['\\$'],'',regex=True))"
   ]
  },
  {
   "cell_type": "markdown",
   "id": "633606ac",
   "metadata": {},
   "source": [
    "#### 4. Of all the injury claims, some of them have gone unreported with the police. Create an alert flag (1,0) for all such claims."
   ]
  },
  {
   "cell_type": "code",
   "execution_count": 11,
   "id": "79a8e1f2",
   "metadata": {},
   "outputs": [],
   "source": [
    "df['alert_flag'] = 0\n",
    "df.loc[(df['claim_type'] == 'Injury only') & (df['police_report'].isin(['No','Unknown'])), 'alert_flag'] = 1 # we are assigning 1 to all the rows that match our condition"
   ]
  },
  {
   "cell_type": "markdown",
   "id": "596e38cf",
   "metadata": {},
   "source": [
    "#### 5. One customer can claim for insurance more than once and in each claim, multiple categories of claims can be involved. However, customer ID should remain unique. "
   ]
  },
  {
   "cell_type": "code",
   "execution_count": 16,
   "id": "1c681935",
   "metadata": {},
   "outputs": [],
   "source": [
    "df.sort_values(by='claim_date', ascending=False, inplace=True) # sorting values by date so that we can filter only the recent\n",
    "df.drop_duplicates(subset='customer_id', keep='first', inplace=True)# selecting only the first row"
   ]
  },
  {
   "cell_type": "markdown",
   "id": "45f0c1a9",
   "metadata": {},
   "source": [
    "#### 6. Check for missing values and impute the missing values with an appropriate value. (mean for continuous and mode for categorical)\n"
   ]
  },
  {
   "cell_type": "code",
   "execution_count": 19,
   "id": "a8708a03",
   "metadata": {},
   "outputs": [
    {
     "data": {
      "text/plain": [
       "customer_id             0\n",
       "incident_cause          0\n",
       "claim_date              0\n",
       "claim_area              0\n",
       "police_report           0\n",
       "claim_type              0\n",
       "claim_amount           65\n",
       "total_policy_claims    10\n",
       "fraudulent              0\n",
       "gender                 15\n",
       "DateOfBirth            15\n",
       "State                  15\n",
       "Segment                15\n",
       "alert_flag              0\n",
       "dtype: int64"
      ]
     },
     "execution_count": 19,
     "metadata": {},
     "output_type": "execute_result"
    }
   ],
   "source": [
    "df.isna().sum()"
   ]
  },
  {
   "cell_type": "code",
   "execution_count": 20,
   "id": "6aaf9a0f",
   "metadata": {},
   "outputs": [],
   "source": [
    "for column in df.columns:\n",
    "    if df[column].dtype == 'float64':  # For continuous variables\n",
    "        mean_value = df[column].mean()\n",
    "        df[column].fillna(mean_value, inplace=True)\n",
    "    elif df[column].dtype == 'object':  # For categorical variables\n",
    "        mode_value = df[column].mode()[0]\n",
    "        df[column].fillna(mode_value, inplace=True)\n",
    "    elif df[column].dtype == 'datetime64[ns]':  # For datetime variables\n",
    "        mode_value = df[column].mode()[0]\n",
    "        df[column].fillna(mode_value, inplace=True)"
   ]
  },
  {
   "cell_type": "code",
   "execution_count": 21,
   "id": "e405d017",
   "metadata": {},
   "outputs": [
    {
     "data": {
      "text/plain": [
       "customer_id            0\n",
       "incident_cause         0\n",
       "claim_date             0\n",
       "claim_area             0\n",
       "police_report          0\n",
       "claim_type             0\n",
       "claim_amount           0\n",
       "total_policy_claims    0\n",
       "fraudulent             0\n",
       "gender                 0\n",
       "DateOfBirth            0\n",
       "State                  0\n",
       "Segment                0\n",
       "alert_flag             0\n",
       "dtype: int64"
      ]
     },
     "execution_count": 21,
     "metadata": {},
     "output_type": "execute_result"
    }
   ],
   "source": [
    "df.isna().sum()"
   ]
  },
  {
   "cell_type": "markdown",
   "id": "6e75a983",
   "metadata": {},
   "source": [
    "####  7. Calculate the age of customers in years. Based on the age, categorize the customers according to the below criteria\n",
    "Children < 18\n",
    "Youth 18-30\n",
    "Adult 30-60\n",
    "Senior > 60"
   ]
  },
  {
   "cell_type": "code",
   "execution_count": 22,
   "id": "7d2276ae",
   "metadata": {},
   "outputs": [],
   "source": [
    "current_year = pd.Timestamp.now().year\n",
    "df['age'] = current_year - df['DateOfBirth'].dt.year"
   ]
  },
  {
   "cell_type": "code",
   "execution_count": 23,
   "id": "b61f6bbb",
   "metadata": {},
   "outputs": [],
   "source": [
    "bins = [0, 18, 30, 60, float('inf')]\n",
    "labels = ['Children', 'Youth', 'Adult', 'Senior']\n",
    "\n",
    "# Create bins in the age column\n",
    "df['age_group'] = pd.cut(df['age'], bins=bins, labels=labels, right=False)"
   ]
  },
  {
   "cell_type": "code",
   "execution_count": 24,
   "id": "2e853c6c",
   "metadata": {},
   "outputs": [
    {
     "data": {
      "text/html": [
       "<div>\n",
       "<style scoped>\n",
       "    .dataframe tbody tr th:only-of-type {\n",
       "        vertical-align: middle;\n",
       "    }\n",
       "\n",
       "    .dataframe tbody tr th {\n",
       "        vertical-align: top;\n",
       "    }\n",
       "\n",
       "    .dataframe thead th {\n",
       "        text-align: right;\n",
       "    }\n",
       "</style>\n",
       "<table border=\"1\" class=\"dataframe\">\n",
       "  <thead>\n",
       "    <tr style=\"text-align: right;\">\n",
       "      <th></th>\n",
       "      <th>customer_id</th>\n",
       "      <th>incident_cause</th>\n",
       "      <th>claim_date</th>\n",
       "      <th>claim_area</th>\n",
       "      <th>police_report</th>\n",
       "      <th>claim_type</th>\n",
       "      <th>claim_amount</th>\n",
       "      <th>total_policy_claims</th>\n",
       "      <th>fraudulent</th>\n",
       "      <th>gender</th>\n",
       "      <th>DateOfBirth</th>\n",
       "      <th>State</th>\n",
       "      <th>Segment</th>\n",
       "      <th>alert_flag</th>\n",
       "      <th>age</th>\n",
       "      <th>age_group</th>\n",
       "    </tr>\n",
       "  </thead>\n",
       "  <tbody>\n",
       "    <tr>\n",
       "      <th>282</th>\n",
       "      <td>93915431</td>\n",
       "      <td>Other causes</td>\n",
       "      <td>2018-10-30</td>\n",
       "      <td>Auto</td>\n",
       "      <td>No</td>\n",
       "      <td>Material and injury</td>\n",
       "      <td>42124.500000</td>\n",
       "      <td>1.0</td>\n",
       "      <td>Yes</td>\n",
       "      <td>Male</td>\n",
       "      <td>2067-09-08</td>\n",
       "      <td>ME</td>\n",
       "      <td>Gold</td>\n",
       "      <td>0</td>\n",
       "      <td>-43</td>\n",
       "      <td>NaN</td>\n",
       "    </tr>\n",
       "    <tr>\n",
       "      <th>350</th>\n",
       "      <td>38011078</td>\n",
       "      <td>Crime</td>\n",
       "      <td>2018-10-30</td>\n",
       "      <td>Auto</td>\n",
       "      <td>Unknown</td>\n",
       "      <td>Material only</td>\n",
       "      <td>1940.000000</td>\n",
       "      <td>1.0</td>\n",
       "      <td>No</td>\n",
       "      <td>Female</td>\n",
       "      <td>1976-05-20</td>\n",
       "      <td>NE</td>\n",
       "      <td>Gold</td>\n",
       "      <td>0</td>\n",
       "      <td>48</td>\n",
       "      <td>Adult</td>\n",
       "    </tr>\n",
       "    <tr>\n",
       "      <th>1077</th>\n",
       "      <td>65208809</td>\n",
       "      <td>Natural causes</td>\n",
       "      <td>2018-10-30</td>\n",
       "      <td>Auto</td>\n",
       "      <td>No</td>\n",
       "      <td>Material only</td>\n",
       "      <td>2290.000000</td>\n",
       "      <td>1.0</td>\n",
       "      <td>No</td>\n",
       "      <td>Male</td>\n",
       "      <td>2064-04-22</td>\n",
       "      <td>VA</td>\n",
       "      <td>Platinum</td>\n",
       "      <td>0</td>\n",
       "      <td>-40</td>\n",
       "      <td>NaN</td>\n",
       "    </tr>\n",
       "    <tr>\n",
       "      <th>1086</th>\n",
       "      <td>49290530</td>\n",
       "      <td>Natural causes</td>\n",
       "      <td>2018-10-30</td>\n",
       "      <td>Auto</td>\n",
       "      <td>No</td>\n",
       "      <td>Material only</td>\n",
       "      <td>2875.000000</td>\n",
       "      <td>1.0</td>\n",
       "      <td>Yes</td>\n",
       "      <td>Male</td>\n",
       "      <td>1974-02-14</td>\n",
       "      <td>NY</td>\n",
       "      <td>Gold</td>\n",
       "      <td>0</td>\n",
       "      <td>50</td>\n",
       "      <td>Adult</td>\n",
       "    </tr>\n",
       "    <tr>\n",
       "      <th>751</th>\n",
       "      <td>28932340</td>\n",
       "      <td>Driver error</td>\n",
       "      <td>2018-10-30</td>\n",
       "      <td>Auto</td>\n",
       "      <td>Unknown</td>\n",
       "      <td>Material only</td>\n",
       "      <td>12475.499514</td>\n",
       "      <td>1.0</td>\n",
       "      <td>No</td>\n",
       "      <td>Male</td>\n",
       "      <td>1996-01-05</td>\n",
       "      <td>LA</td>\n",
       "      <td>Gold</td>\n",
       "      <td>0</td>\n",
       "      <td>28</td>\n",
       "      <td>Youth</td>\n",
       "    </tr>\n",
       "    <tr>\n",
       "      <th>...</th>\n",
       "      <td>...</td>\n",
       "      <td>...</td>\n",
       "      <td>...</td>\n",
       "      <td>...</td>\n",
       "      <td>...</td>\n",
       "      <td>...</td>\n",
       "      <td>...</td>\n",
       "      <td>...</td>\n",
       "      <td>...</td>\n",
       "      <td>...</td>\n",
       "      <td>...</td>\n",
       "      <td>...</td>\n",
       "      <td>...</td>\n",
       "      <td>...</td>\n",
       "      <td>...</td>\n",
       "      <td>...</td>\n",
       "    </tr>\n",
       "    <tr>\n",
       "      <th>177</th>\n",
       "      <td>61745840</td>\n",
       "      <td>Other driver error</td>\n",
       "      <td>2017-01-01</td>\n",
       "      <td>Home</td>\n",
       "      <td>No</td>\n",
       "      <td>Material and injury</td>\n",
       "      <td>30930.000000</td>\n",
       "      <td>1.0</td>\n",
       "      <td>No</td>\n",
       "      <td>Female</td>\n",
       "      <td>1994-07-24</td>\n",
       "      <td>MA</td>\n",
       "      <td>Platinum</td>\n",
       "      <td>0</td>\n",
       "      <td>30</td>\n",
       "      <td>Adult</td>\n",
       "    </tr>\n",
       "    <tr>\n",
       "      <th>191</th>\n",
       "      <td>64840478</td>\n",
       "      <td>Other driver error</td>\n",
       "      <td>2017-01-01</td>\n",
       "      <td>Auto</td>\n",
       "      <td>Unknown</td>\n",
       "      <td>Material and injury</td>\n",
       "      <td>17290.000000</td>\n",
       "      <td>1.0</td>\n",
       "      <td>No</td>\n",
       "      <td>Female</td>\n",
       "      <td>1974-02-14</td>\n",
       "      <td>NM</td>\n",
       "      <td>Silver</td>\n",
       "      <td>0</td>\n",
       "      <td>50</td>\n",
       "      <td>Adult</td>\n",
       "    </tr>\n",
       "    <tr>\n",
       "      <th>116</th>\n",
       "      <td>39587790</td>\n",
       "      <td>Other causes</td>\n",
       "      <td>2017-01-01</td>\n",
       "      <td>Auto</td>\n",
       "      <td>No</td>\n",
       "      <td>Material only</td>\n",
       "      <td>2967.000000</td>\n",
       "      <td>1.0</td>\n",
       "      <td>Yes</td>\n",
       "      <td>Male</td>\n",
       "      <td>2065-01-10</td>\n",
       "      <td>LA</td>\n",
       "      <td>Gold</td>\n",
       "      <td>0</td>\n",
       "      <td>-41</td>\n",
       "      <td>NaN</td>\n",
       "    </tr>\n",
       "    <tr>\n",
       "      <th>308</th>\n",
       "      <td>65176092</td>\n",
       "      <td>Other causes</td>\n",
       "      <td>2017-01-01</td>\n",
       "      <td>Auto</td>\n",
       "      <td>No</td>\n",
       "      <td>Material and injury</td>\n",
       "      <td>37290.000000</td>\n",
       "      <td>3.0</td>\n",
       "      <td>No</td>\n",
       "      <td>Male</td>\n",
       "      <td>1975-11-23</td>\n",
       "      <td>NC</td>\n",
       "      <td>Silver</td>\n",
       "      <td>0</td>\n",
       "      <td>49</td>\n",
       "      <td>Adult</td>\n",
       "    </tr>\n",
       "    <tr>\n",
       "      <th>1064</th>\n",
       "      <td>75934330</td>\n",
       "      <td>Natural causes</td>\n",
       "      <td>2017-01-01</td>\n",
       "      <td>Auto</td>\n",
       "      <td>Yes</td>\n",
       "      <td>Injury only</td>\n",
       "      <td>20630.000000</td>\n",
       "      <td>1.0</td>\n",
       "      <td>No</td>\n",
       "      <td>Female</td>\n",
       "      <td>1987-10-09</td>\n",
       "      <td>ME</td>\n",
       "      <td>Platinum</td>\n",
       "      <td>0</td>\n",
       "      <td>37</td>\n",
       "      <td>Adult</td>\n",
       "    </tr>\n",
       "  </tbody>\n",
       "</table>\n",
       "<p>1093 rows × 16 columns</p>\n",
       "</div>"
      ],
      "text/plain": [
       "      customer_id      incident_cause claim_date claim_area police_report  \\\n",
       "282      93915431        Other causes 2018-10-30       Auto            No   \n",
       "350      38011078               Crime 2018-10-30       Auto       Unknown   \n",
       "1077     65208809      Natural causes 2018-10-30       Auto            No   \n",
       "1086     49290530      Natural causes 2018-10-30       Auto            No   \n",
       "751      28932340        Driver error 2018-10-30       Auto       Unknown   \n",
       "...           ...                 ...        ...        ...           ...   \n",
       "177      61745840  Other driver error 2017-01-01       Home            No   \n",
       "191      64840478  Other driver error 2017-01-01       Auto       Unknown   \n",
       "116      39587790        Other causes 2017-01-01       Auto            No   \n",
       "308      65176092        Other causes 2017-01-01       Auto            No   \n",
       "1064     75934330      Natural causes 2017-01-01       Auto           Yes   \n",
       "\n",
       "               claim_type  claim_amount  total_policy_claims fraudulent  \\\n",
       "282   Material and injury  42124.500000                  1.0        Yes   \n",
       "350         Material only   1940.000000                  1.0         No   \n",
       "1077        Material only   2290.000000                  1.0         No   \n",
       "1086        Material only   2875.000000                  1.0        Yes   \n",
       "751         Material only  12475.499514                  1.0         No   \n",
       "...                   ...           ...                  ...        ...   \n",
       "177   Material and injury  30930.000000                  1.0         No   \n",
       "191   Material and injury  17290.000000                  1.0         No   \n",
       "116         Material only   2967.000000                  1.0        Yes   \n",
       "308   Material and injury  37290.000000                  3.0         No   \n",
       "1064          Injury only  20630.000000                  1.0         No   \n",
       "\n",
       "      gender DateOfBirth State   Segment  alert_flag  age age_group  \n",
       "282     Male  2067-09-08    ME      Gold           0  -43       NaN  \n",
       "350   Female  1976-05-20    NE      Gold           0   48     Adult  \n",
       "1077    Male  2064-04-22    VA  Platinum           0  -40       NaN  \n",
       "1086    Male  1974-02-14    NY      Gold           0   50     Adult  \n",
       "751     Male  1996-01-05    LA      Gold           0   28     Youth  \n",
       "...      ...         ...   ...       ...         ...  ...       ...  \n",
       "177   Female  1994-07-24    MA  Platinum           0   30     Adult  \n",
       "191   Female  1974-02-14    NM    Silver           0   50     Adult  \n",
       "116     Male  2065-01-10    LA      Gold           0  -41       NaN  \n",
       "308     Male  1975-11-23    NC    Silver           0   49     Adult  \n",
       "1064  Female  1987-10-09    ME  Platinum           0   37     Adult  \n",
       "\n",
       "[1093 rows x 16 columns]"
      ]
     },
     "execution_count": 24,
     "metadata": {},
     "output_type": "execute_result"
    }
   ],
   "source": [
    "df"
   ]
  },
  {
   "cell_type": "code",
   "execution_count": 30,
   "id": "b0060055",
   "metadata": {},
   "outputs": [],
   "source": [
    "# as we can see above the age column has date that is in the future hence it is wrong so we will drop such rows\n",
    "df.dropna(axis=0, inplace=True)"
   ]
  },
  {
   "cell_type": "code",
   "execution_count": 31,
   "id": "7e3ccb94",
   "metadata": {},
   "outputs": [
    {
     "data": {
      "text/html": [
       "<div>\n",
       "<style scoped>\n",
       "    .dataframe tbody tr th:only-of-type {\n",
       "        vertical-align: middle;\n",
       "    }\n",
       "\n",
       "    .dataframe tbody tr th {\n",
       "        vertical-align: top;\n",
       "    }\n",
       "\n",
       "    .dataframe thead th {\n",
       "        text-align: right;\n",
       "    }\n",
       "</style>\n",
       "<table border=\"1\" class=\"dataframe\">\n",
       "  <thead>\n",
       "    <tr style=\"text-align: right;\">\n",
       "      <th></th>\n",
       "      <th>customer_id</th>\n",
       "      <th>incident_cause</th>\n",
       "      <th>claim_date</th>\n",
       "      <th>claim_area</th>\n",
       "      <th>police_report</th>\n",
       "      <th>claim_type</th>\n",
       "      <th>claim_amount</th>\n",
       "      <th>total_policy_claims</th>\n",
       "      <th>fraudulent</th>\n",
       "      <th>gender</th>\n",
       "      <th>DateOfBirth</th>\n",
       "      <th>State</th>\n",
       "      <th>Segment</th>\n",
       "      <th>alert_flag</th>\n",
       "      <th>age</th>\n",
       "      <th>age_group</th>\n",
       "    </tr>\n",
       "  </thead>\n",
       "  <tbody>\n",
       "    <tr>\n",
       "      <th>350</th>\n",
       "      <td>38011078</td>\n",
       "      <td>Crime</td>\n",
       "      <td>2018-10-30</td>\n",
       "      <td>Auto</td>\n",
       "      <td>Unknown</td>\n",
       "      <td>Material only</td>\n",
       "      <td>1940.000000</td>\n",
       "      <td>1.0</td>\n",
       "      <td>No</td>\n",
       "      <td>Female</td>\n",
       "      <td>1976-05-20</td>\n",
       "      <td>NE</td>\n",
       "      <td>Gold</td>\n",
       "      <td>0</td>\n",
       "      <td>48</td>\n",
       "      <td>Adult</td>\n",
       "    </tr>\n",
       "    <tr>\n",
       "      <th>1086</th>\n",
       "      <td>49290530</td>\n",
       "      <td>Natural causes</td>\n",
       "      <td>2018-10-30</td>\n",
       "      <td>Auto</td>\n",
       "      <td>No</td>\n",
       "      <td>Material only</td>\n",
       "      <td>2875.000000</td>\n",
       "      <td>1.0</td>\n",
       "      <td>Yes</td>\n",
       "      <td>Male</td>\n",
       "      <td>1974-02-14</td>\n",
       "      <td>NY</td>\n",
       "      <td>Gold</td>\n",
       "      <td>0</td>\n",
       "      <td>50</td>\n",
       "      <td>Adult</td>\n",
       "    </tr>\n",
       "    <tr>\n",
       "      <th>751</th>\n",
       "      <td>28932340</td>\n",
       "      <td>Driver error</td>\n",
       "      <td>2018-10-30</td>\n",
       "      <td>Auto</td>\n",
       "      <td>Unknown</td>\n",
       "      <td>Material only</td>\n",
       "      <td>12475.499514</td>\n",
       "      <td>1.0</td>\n",
       "      <td>No</td>\n",
       "      <td>Male</td>\n",
       "      <td>1996-01-05</td>\n",
       "      <td>LA</td>\n",
       "      <td>Gold</td>\n",
       "      <td>0</td>\n",
       "      <td>28</td>\n",
       "      <td>Youth</td>\n",
       "    </tr>\n",
       "    <tr>\n",
       "      <th>318</th>\n",
       "      <td>77510822</td>\n",
       "      <td>Other driver error</td>\n",
       "      <td>2018-10-30</td>\n",
       "      <td>Auto</td>\n",
       "      <td>Unknown</td>\n",
       "      <td>Material only</td>\n",
       "      <td>12475.499514</td>\n",
       "      <td>2.0</td>\n",
       "      <td>No</td>\n",
       "      <td>Female</td>\n",
       "      <td>1986-03-18</td>\n",
       "      <td>AK</td>\n",
       "      <td>Silver</td>\n",
       "      <td>0</td>\n",
       "      <td>38</td>\n",
       "      <td>Adult</td>\n",
       "    </tr>\n",
       "    <tr>\n",
       "      <th>941</th>\n",
       "      <td>46710738</td>\n",
       "      <td>Driver error</td>\n",
       "      <td>2018-10-30</td>\n",
       "      <td>Auto</td>\n",
       "      <td>No</td>\n",
       "      <td>Material only</td>\n",
       "      <td>1830.000000</td>\n",
       "      <td>1.0</td>\n",
       "      <td>No</td>\n",
       "      <td>Male</td>\n",
       "      <td>1977-04-28</td>\n",
       "      <td>MO</td>\n",
       "      <td>Gold</td>\n",
       "      <td>0</td>\n",
       "      <td>47</td>\n",
       "      <td>Adult</td>\n",
       "    </tr>\n",
       "    <tr>\n",
       "      <th>...</th>\n",
       "      <td>...</td>\n",
       "      <td>...</td>\n",
       "      <td>...</td>\n",
       "      <td>...</td>\n",
       "      <td>...</td>\n",
       "      <td>...</td>\n",
       "      <td>...</td>\n",
       "      <td>...</td>\n",
       "      <td>...</td>\n",
       "      <td>...</td>\n",
       "      <td>...</td>\n",
       "      <td>...</td>\n",
       "      <td>...</td>\n",
       "      <td>...</td>\n",
       "      <td>...</td>\n",
       "      <td>...</td>\n",
       "    </tr>\n",
       "    <tr>\n",
       "      <th>173</th>\n",
       "      <td>74155265</td>\n",
       "      <td>Natural causes</td>\n",
       "      <td>2017-01-01</td>\n",
       "      <td>Auto</td>\n",
       "      <td>No</td>\n",
       "      <td>Material only</td>\n",
       "      <td>2080.000000</td>\n",
       "      <td>1.0</td>\n",
       "      <td>No</td>\n",
       "      <td>Male</td>\n",
       "      <td>1985-11-16</td>\n",
       "      <td>TX</td>\n",
       "      <td>Gold</td>\n",
       "      <td>0</td>\n",
       "      <td>39</td>\n",
       "      <td>Adult</td>\n",
       "    </tr>\n",
       "    <tr>\n",
       "      <th>177</th>\n",
       "      <td>61745840</td>\n",
       "      <td>Other driver error</td>\n",
       "      <td>2017-01-01</td>\n",
       "      <td>Home</td>\n",
       "      <td>No</td>\n",
       "      <td>Material and injury</td>\n",
       "      <td>30930.000000</td>\n",
       "      <td>1.0</td>\n",
       "      <td>No</td>\n",
       "      <td>Female</td>\n",
       "      <td>1994-07-24</td>\n",
       "      <td>MA</td>\n",
       "      <td>Platinum</td>\n",
       "      <td>0</td>\n",
       "      <td>30</td>\n",
       "      <td>Adult</td>\n",
       "    </tr>\n",
       "    <tr>\n",
       "      <th>191</th>\n",
       "      <td>64840478</td>\n",
       "      <td>Other driver error</td>\n",
       "      <td>2017-01-01</td>\n",
       "      <td>Auto</td>\n",
       "      <td>Unknown</td>\n",
       "      <td>Material and injury</td>\n",
       "      <td>17290.000000</td>\n",
       "      <td>1.0</td>\n",
       "      <td>No</td>\n",
       "      <td>Female</td>\n",
       "      <td>1974-02-14</td>\n",
       "      <td>NM</td>\n",
       "      <td>Silver</td>\n",
       "      <td>0</td>\n",
       "      <td>50</td>\n",
       "      <td>Adult</td>\n",
       "    </tr>\n",
       "    <tr>\n",
       "      <th>308</th>\n",
       "      <td>65176092</td>\n",
       "      <td>Other causes</td>\n",
       "      <td>2017-01-01</td>\n",
       "      <td>Auto</td>\n",
       "      <td>No</td>\n",
       "      <td>Material and injury</td>\n",
       "      <td>37290.000000</td>\n",
       "      <td>3.0</td>\n",
       "      <td>No</td>\n",
       "      <td>Male</td>\n",
       "      <td>1975-11-23</td>\n",
       "      <td>NC</td>\n",
       "      <td>Silver</td>\n",
       "      <td>0</td>\n",
       "      <td>49</td>\n",
       "      <td>Adult</td>\n",
       "    </tr>\n",
       "    <tr>\n",
       "      <th>1064</th>\n",
       "      <td>75934330</td>\n",
       "      <td>Natural causes</td>\n",
       "      <td>2017-01-01</td>\n",
       "      <td>Auto</td>\n",
       "      <td>Yes</td>\n",
       "      <td>Injury only</td>\n",
       "      <td>20630.000000</td>\n",
       "      <td>1.0</td>\n",
       "      <td>No</td>\n",
       "      <td>Female</td>\n",
       "      <td>1987-10-09</td>\n",
       "      <td>ME</td>\n",
       "      <td>Platinum</td>\n",
       "      <td>0</td>\n",
       "      <td>37</td>\n",
       "      <td>Adult</td>\n",
       "    </tr>\n",
       "  </tbody>\n",
       "</table>\n",
       "<p>715 rows × 16 columns</p>\n",
       "</div>"
      ],
      "text/plain": [
       "      customer_id      incident_cause claim_date claim_area police_report  \\\n",
       "350      38011078               Crime 2018-10-30       Auto       Unknown   \n",
       "1086     49290530      Natural causes 2018-10-30       Auto            No   \n",
       "751      28932340        Driver error 2018-10-30       Auto       Unknown   \n",
       "318      77510822  Other driver error 2018-10-30       Auto       Unknown   \n",
       "941      46710738        Driver error 2018-10-30       Auto            No   \n",
       "...           ...                 ...        ...        ...           ...   \n",
       "173      74155265      Natural causes 2017-01-01       Auto            No   \n",
       "177      61745840  Other driver error 2017-01-01       Home            No   \n",
       "191      64840478  Other driver error 2017-01-01       Auto       Unknown   \n",
       "308      65176092        Other causes 2017-01-01       Auto            No   \n",
       "1064     75934330      Natural causes 2017-01-01       Auto           Yes   \n",
       "\n",
       "               claim_type  claim_amount  total_policy_claims fraudulent  \\\n",
       "350         Material only   1940.000000                  1.0         No   \n",
       "1086        Material only   2875.000000                  1.0        Yes   \n",
       "751         Material only  12475.499514                  1.0         No   \n",
       "318         Material only  12475.499514                  2.0         No   \n",
       "941         Material only   1830.000000                  1.0         No   \n",
       "...                   ...           ...                  ...        ...   \n",
       "173         Material only   2080.000000                  1.0         No   \n",
       "177   Material and injury  30930.000000                  1.0         No   \n",
       "191   Material and injury  17290.000000                  1.0         No   \n",
       "308   Material and injury  37290.000000                  3.0         No   \n",
       "1064          Injury only  20630.000000                  1.0         No   \n",
       "\n",
       "      gender DateOfBirth State   Segment  alert_flag  age age_group  \n",
       "350   Female  1976-05-20    NE      Gold           0   48     Adult  \n",
       "1086    Male  1974-02-14    NY      Gold           0   50     Adult  \n",
       "751     Male  1996-01-05    LA      Gold           0   28     Youth  \n",
       "318   Female  1986-03-18    AK    Silver           0   38     Adult  \n",
       "941     Male  1977-04-28    MO      Gold           0   47     Adult  \n",
       "...      ...         ...   ...       ...         ...  ...       ...  \n",
       "173     Male  1985-11-16    TX      Gold           0   39     Adult  \n",
       "177   Female  1994-07-24    MA  Platinum           0   30     Adult  \n",
       "191   Female  1974-02-14    NM    Silver           0   50     Adult  \n",
       "308     Male  1975-11-23    NC    Silver           0   49     Adult  \n",
       "1064  Female  1987-10-09    ME  Platinum           0   37     Adult  \n",
       "\n",
       "[715 rows x 16 columns]"
      ]
     },
     "execution_count": 31,
     "metadata": {},
     "output_type": "execute_result"
    }
   ],
   "source": [
    "df"
   ]
  },
  {
   "cell_type": "markdown",
   "id": "249c6925",
   "metadata": {},
   "source": [
    "#### 8. What is the average amount claimed by the customers from various segments?"
   ]
  },
  {
   "cell_type": "code",
   "execution_count": 35,
   "id": "2780d9ac",
   "metadata": {},
   "outputs": [
    {
     "data": {
      "text/plain": [
       "age_group\n",
       "Children             NaN\n",
       "Youth       12019.950320\n",
       "Adult       12688.999098\n",
       "Senior               NaN\n",
       "Name: claim_amount, dtype: float64"
      ]
     },
     "execution_count": 35,
     "metadata": {},
     "output_type": "execute_result"
    }
   ],
   "source": [
    "df.groupby(by = 'age_group')['claim_amount'].mean()"
   ]
  },
  {
   "cell_type": "markdown",
   "id": "53a8d3cc",
   "metadata": {},
   "source": [
    "####  9. What is the total claim amount based on incident cause for all the claims that have been done at least 20 days prior to 1st of October, 2018."
   ]
  },
  {
   "cell_type": "code",
   "execution_count": 38,
   "id": "37a973ed",
   "metadata": {},
   "outputs": [],
   "source": [
    "prior_date =pd.Timestamp('2018-10-01') - pd.Timedelta(days=20)\n",
    "# Filter the DataFrame to include only claims that occurred at least 20 days prior to the cutoff date\n",
    "filtered = df[df['claim_date'] <= prior_date]"
   ]
  },
  {
   "cell_type": "code",
   "execution_count": 39,
   "id": "e1e84501",
   "metadata": {},
   "outputs": [
    {
     "data": {
      "text/plain": [
       "incident_cause\n",
       "Crime                 4.016385e+05\n",
       "Driver error          2.336762e+06\n",
       "Natural causes        8.971630e+05\n",
       "Other causes          2.357739e+06\n",
       "Other driver error    2.131442e+06\n",
       "Name: claim_amount, dtype: float64"
      ]
     },
     "execution_count": 39,
     "metadata": {},
     "output_type": "execute_result"
    }
   ],
   "source": [
    "filtered.groupby(by = 'incident_cause')['claim_amount'].sum()"
   ]
  },
  {
   "cell_type": "markdown",
   "id": "09183e5a",
   "metadata": {},
   "source": [
    "#### 10. How many adults from TX, DE and AK claimed insurance for driver related issues and causes? "
   ]
  },
  {
   "cell_type": "code",
   "execution_count": 43,
   "id": "1c349e61",
   "metadata": {},
   "outputs": [],
   "source": [
    "filtered_data = df[(df['State'].isin(['TX','DE','AK'])) & (df['age_group']== 'Adult') & (df['incident_cause'].str.contains('driver', case=False))]"
   ]
  },
  {
   "cell_type": "code",
   "execution_count": 45,
   "id": "fbec8c94",
   "metadata": {},
   "outputs": [
    {
     "data": {
      "text/plain": [
       "DE    9\n",
       "AK    6\n",
       "TX    5\n",
       "Name: State, dtype: int64"
      ]
     },
     "execution_count": 45,
     "metadata": {},
     "output_type": "execute_result"
    }
   ],
   "source": [
    "filtered_data['State'].value_counts()"
   ]
  },
  {
   "cell_type": "markdown",
   "id": "2c736bf8",
   "metadata": {},
   "source": [
    "#### 11. Draw a pie chart between the aggregated value of claim amount based on gender and segment. Represent the claim amount as a percentage on the pie chart.\n"
   ]
  },
  {
   "cell_type": "code",
   "execution_count": 47,
   "id": "a22ef964",
   "metadata": {},
   "outputs": [
    {
     "data": {
      "text/plain": [
       "<AxesSubplot:ylabel='claim_amount'>"
      ]
     },
     "execution_count": 47,
     "metadata": {},
     "output_type": "execute_result"
    },
    {
     "data": {
      "image/png": "[encoded data removed]",
      "text/plain": [
       "<Figure size 432x288 with 1 Axes>"
      ]
     },
     "metadata": {},
     "output_type": "display_data"
    }
   ],
   "source": [
    "data = df.groupby(['gender','Segment'])['claim_amount'].sum()\n",
    "data.plot(kind='pie', autopct='%1.1f%%', startangle=90)"
   ]
  },
  {
   "cell_type": "markdown",
   "id": "b4dda809",
   "metadata": {},
   "source": [
    "#### 12. Among males and females, which gender had claimed the most for any type of driver related issues? E.g. This metric can be compared using a bar chart"
   ]
  },
  {
   "cell_type": "code",
   "execution_count": 52,
   "id": "fae70988",
   "metadata": {},
   "outputs": [],
   "source": [
    "data = df[df['incident_cause'].str.contains('driver',case=False)].groupby('gender')['claim_type'].count()"
   ]
  },
  {
   "cell_type": "code",
   "execution_count": 54,
   "id": "bc4d371b",
   "metadata": {},
   "outputs": [
    {
     "data": {
      "text/plain": [
       "<AxesSubplot:xlabel='gender'>"
      ]
     },
     "execution_count": 54,
     "metadata": {},
     "output_type": "execute_result"
    },
    {
     "data": {
      "image/png": "[encoded data removed]",
      "text/plain": [
       "<Figure size 432x288 with 1 Axes>"
      ]
     },
     "metadata": {
      "needs_background": "light"
     },
     "output_type": "display_data"
    }
   ],
   "source": [
    "data.plot(kind = 'bar')"
   ]
  },
  {
   "cell_type": "markdown",
   "id": "b4da7d3a",
   "metadata": {},
   "source": [
    "#### 13. Which age group had the maximum fraudulent policy claims? Visualize it on a bar chart."
   ]
  },
  {
   "cell_type": "code",
   "execution_count": 57,
   "id": "dcd3a39f",
   "metadata": {},
   "outputs": [],
   "source": [
    "data = df[df['fraudulent']=='Yes'].groupby('age_group')['age_group'].count()"
   ]
  },
  {
   "cell_type": "code",
   "execution_count": 58,
   "id": "5e3d5cb0",
   "metadata": {},
   "outputs": [
    {
     "data": {
      "text/plain": [
       "<AxesSubplot:xlabel='age_group'>"
      ]
     },
     "execution_count": 58,
     "metadata": {},
     "output_type": "execute_result"
    },
    {
     "data": {
      "image/png": "[encoded data removed]",
      "text/plain": [
       "<Figure size 432x288 with 1 Axes>"
      ]
     },
     "metadata": {
      "needs_background": "light"
     },
     "output_type": "display_data"
    }
   ],
   "source": [
    "data.plot(kind = 'bar')"
   ]
  },
  {
   "cell_type": "markdown",
   "id": "72c79d7c",
   "metadata": {},
   "source": [
    "#### 14. Visualize the monthly trend of the total amount that has been claimed by the customers. Ensure that on the “month” axis, the month is in a chronological order not alphabetical order. "
   ]
  },
  {
   "cell_type": "code",
   "execution_count": 59,
   "id": "30228b1c",
   "metadata": {},
   "outputs": [],
   "source": [
    "df['month'] = df['claim_date'].dt.to_period('M')"
   ]
  },
  {
   "cell_type": "code",
   "execution_count": 61,
   "id": "536bdac3",
   "metadata": {},
   "outputs": [],
   "source": [
    "monthly_data = df.groupby('month')['claim_amount'].sum()"
   ]
  },
  {
   "cell_type": "code",
   "execution_count": 64,
   "id": "ab529e54",
   "metadata": {},
   "outputs": [
    {
     "data": {
      "image/png": "[encoded data removed]",
      "text/plain": [
       "<Figure size 432x288 with 1 Axes>"
      ]
     },
     "metadata": {
      "needs_background": "light"
     },
     "output_type": "display_data"
    }
   ],
   "source": [
    "plt.plot(monthly_data.index.astype(str), monthly_data.values, marker='o')\n",
    "plt.xlabel('Month')\n",
    "plt.ylabel('Total Claim Amount')\n",
    "plt.title('Monthly Trend of Total Claim Amount')\n",
    "plt.xticks(rotation=45)  \n",
    "plt.show()"
   ]
  },
  {
   "cell_type": "markdown",
   "id": "33e9faaf",
   "metadata": {},
   "source": [
    "#### 15. What is the average claim amount for gender and age categories andsuitably represent the above using a facetted bar chart, one facet that represents fraudulent claims and the other for non-fraudulent claims."
   ]
  },
  {
   "cell_type": "code",
   "execution_count": 66,
   "id": "7ebddae1",
   "metadata": {},
   "outputs": [],
   "source": [
    "grouped_data = df.groupby(['gender', 'age_group', 'fraudulent'])['claim_amount'].mean().reset_index()"
   ]
  },
  {
   "cell_type": "code",
   "execution_count": 68,
   "id": "3c478ab7",
   "metadata": {},
   "outputs": [
    {
     "data": {
      "text/plain": [
       "<Figure size 864x576 with 0 Axes>"
      ]
     },
     "metadata": {},
     "output_type": "display_data"
    },
    {
     "data": {
      "image/png": "[encoded data removed]",
      "text/plain": [
       "<Figure size 797.75x360 with 2 Axes>"
      ]
     },
     "metadata": {
      "needs_background": "light"
     },
     "output_type": "display_data"
    }
   ],
   "source": [
    "plt.figure(figsize=(12, 8))\n",
    "sns.catplot(\n",
    "    x='gender', y='claim_amount', hue='age_group', col='fraudulent',\n",
    "    kind='bar', data=df, ci=None, palette='viridis'\n",
    ")\n",
    "plt.show()"
   ]
  },
  {
   "cell_type": "code",
   "execution_count": null,
   "id": "00551976",
   "metadata": {},
   "outputs": [],
   "source": []
  },
  {
   "cell_type": "code",
   "execution_count": null,
   "id": "d7e5a268",
   "metadata": {},
   "outputs": [],
   "source": []
  },
  {
   "cell_type": "markdown",
   "id": "0a3a43a3",
   "metadata": {},
   "source": [
    "####  16. Is there any similarity in the amount claimed by males and females?"
   ]
  },
  {
   "cell_type": "code",
   "execution_count": 73,
   "id": "fcfd3a55",
   "metadata": {},
   "outputs": [
    {
     "data": {
      "text/plain": [
       "<AxesSubplot:xlabel='gender'>"
      ]
     },
     "execution_count": 73,
     "metadata": {},
     "output_type": "execute_result"
    },
    {
     "data": {
      "image/png": "[encoded data removed]",
      "text/plain": [
       "<Figure size 432x288 with 1 Axes>"
      ]
     },
     "metadata": {
      "needs_background": "light"
     },
     "output_type": "display_data"
    }
   ],
   "source": [
    "data = df.groupby('gender')['claim_amount'].sum()\n",
    "data.plot(kind='bar')"
   ]
  },
  {
   "cell_type": "markdown",
   "id": "a1a9f634",
   "metadata": {},
   "source": [
    "##### As we can see they are almost simlar in the claim amout but the males have a bit higher claim amout"
   ]
  },
  {
   "cell_type": "markdown",
   "id": "7851d315",
   "metadata": {},
   "source": [
    "### 17. Is there any relationship between age category and segment?"
   ]
  },
  {
   "cell_type": "code",
   "execution_count": 76,
   "id": "bdb79db0",
   "metadata": {},
   "outputs": [
    {
     "data": {
      "image/png": "[encoded data removed]",
      "text/plain": [
       "<Figure size 432x288 with 2 Axes>"
      ]
     },
     "metadata": {
      "needs_background": "light"
     },
     "output_type": "display_data"
    }
   ],
   "source": [
    "cross_tab = pd.crosstab(df['age_group'], df['Segment'])\n",
    "heatmap = sns.heatmap(cross_tab, annot=True, cmap=\"YlGnBu\", fmt=\"d\")\n",
    "heatmap.set_title('Relationship between Age Category and Segment')\n",
    "plt.show()"
   ]
  },
  {
   "cell_type": "markdown",
   "id": "1407139a",
   "metadata": {},
   "source": [
    "#### We can see that Adults and Segment have a strong correlation, many adults fall in the gold category"
   ]
  },
  {
   "cell_type": "markdown",
   "id": "c1cacb25",
   "metadata": {},
   "source": [
    "### 18. The current year has shown a significant rise in claim amounts ascompared to 2016-17 fiscal average which was $10,000"
   ]
  },
  {
   "cell_type": "code",
   "execution_count": 80,
   "id": "6701e614",
   "metadata": {},
   "outputs": [
    {
     "data": {
      "text/plain": [
       "12557.060807188918"
      ]
     },
     "execution_count": 80,
     "metadata": {},
     "output_type": "execute_result"
    }
   ],
   "source": [
    "df['claim_amount'].mean()"
   ]
  },
  {
   "cell_type": "markdown",
   "id": "0cdd18b9",
   "metadata": {},
   "source": [
    "##### we can see that we have gained 2557 dollars more than the last fiscal year"
   ]
  },
  {
   "cell_type": "markdown",
   "id": "4be47d4b",
   "metadata": {},
   "source": [
    "### 19. Is there any difference between age groups and insurance claims?"
   ]
  },
  {
   "cell_type": "code",
   "execution_count": 81,
   "id": "2c20b4d0",
   "metadata": {},
   "outputs": [
    {
     "data": {
      "text/plain": [
       "<AxesSubplot:xlabel='age_group'>"
      ]
     },
     "execution_count": 81,
     "metadata": {},
     "output_type": "execute_result"
    },
    {
     "data": {
      "image/png": "[encoded data removed]",
      "text/plain": [
       "<Figure size 432x288 with 1 Axes>"
      ]
     },
     "metadata": {
      "needs_background": "light"
     },
     "output_type": "display_data"
    }
   ],
   "source": [
    "data = df[df['fraudulent']=='Yes'].groupby('age_group')['age_group'].count()\n",
    "data.plot(kind = 'bar')"
   ]
  },
  {
   "cell_type": "markdown",
   "id": "0c14dc9f",
   "metadata": {},
   "source": [
    "##### As we can clearly see there is a significant difference between age groups and claims. Adults have claimed much more than the youth\n"
   ]
  },
  {
   "cell_type": "markdown",
   "id": "193b9cc6",
   "metadata": {},
   "source": [
    "### 20. Is there any relationship between total number of policy claims and the claimed amount?"
   ]
  },
  {
   "cell_type": "code",
   "execution_count": 84,
   "id": "9da8a612",
   "metadata": {},
   "outputs": [
    {
     "data": {
      "text/plain": [
       "<AxesSubplot:xlabel='total_policy_claims', ylabel='claim_amount'>"
      ]
     },
     "execution_count": 84,
     "metadata": {},
     "output_type": "execute_result"
    },
    {
     "data": {
      "image/png": "[encoded data removed]",
      "text/plain": [
       "<Figure size 720x432 with 1 Axes>"
      ]
     },
     "metadata": {
      "needs_background": "light"
     },
     "output_type": "display_data"
    }
   ],
   "source": [
    "df['total_policy_claims'] = df.groupby('customer_id')['total_policy_claims'].transform('sum')\n",
    "\n",
    "\n",
    "plt.figure(figsize=(10, 6))\n",
    "sns.scatterplot(data=df, x='total_policy_claims', y='claim_amount')\n"
   ]
  },
  {
   "cell_type": "code",
   "execution_count": 83,
   "id": "52cf931f",
   "metadata": {},
   "outputs": [
    {
     "name": "stdout",
     "output_type": "stream",
     "text": [
      "Pearson Correlation Coefficient: -0.012185037186423192\n"
     ]
    }
   ],
   "source": [
    "correlation_coefficient = df['total_policy_claims'].corr(df['claim_amount'])\n",
    "print(f\"Pearson Correlation Coefficient: {correlation_coefficient}\")"
   ]
  },
  {
   "cell_type": "markdown",
   "id": "bd4e11c4",
   "metadata": {},
   "source": [
    "#### We can see that the pearsons cofficient is close to 0 hence it does not have any correlation"
   ]
  },
  {
   "cell_type": "code",
   "execution_count": null,
   "id": "3320fe3f",
   "metadata": {},
   "outputs": [],
   "source": []
  }
 ],
 "metadata": {
  "kernelspec": {
   "display_name": "Python 3 (ipykernel)",
   "language": "python",
   "name": "python3"
  },
  "language_info": {
   "codemirror_mode": {
    "name": "ipython",
    "version": 3
   },
   "file_extension": ".py",
   "mimetype": "text/x-python",
   "name": "python",
   "nbconvert_exporter": "python",
   "pygments_lexer": "ipython3",
   "version": "3.9.12"
  }
 },
 "nbformat": 4,
 "nbformat_minor": 5
}
